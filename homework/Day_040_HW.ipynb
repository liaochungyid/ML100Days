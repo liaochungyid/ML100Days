{
 "cells": [
  {
   "cell_type": "markdown",
   "metadata": {},
   "source": [
    "## [作業重點]\n",
    "使用 Sklearn 中的 Lasso, Ridge 模型，來訓練各種資料集，務必了解送進去模型訓練的**資料型態**為何，也請了解模型中各項參數的意義。\n",
    "\n",
    "機器學習的模型非常多種，但要訓練的資料多半有固定的格式，確保你了解訓練資料的格式為何，這樣在應用新模型時，就能夠最快的上手開始訓練！"
   ]
  },
  {
   "cell_type": "markdown",
   "metadata": {},
   "source": [
    "## 練習時間\n",
    "試著使用 sklearn datasets 的其他資料集 (boston, ...)，來訓練自己的線性迴歸模型，並加上適當的正則化來觀察訓練情形。"
   ]
  },
  {
   "cell_type": "code",
   "execution_count": 2,
   "metadata": {},
   "outputs": [
    {
     "name": "stdout",
     "output_type": "stream",
     "text": [
      "lr coef :  [-1.19886262e-01  3.99134691e-02  2.12938504e-02  2.77565167e+00\n",
      " -1.85854960e+01  3.75579160e+00  4.57076424e-03 -1.47064595e+00\n",
      "  3.11878023e-01 -1.18109903e-02 -9.47556337e-01  1.03287982e-02\n",
      " -5.50096256e-01]\n",
      "lr bias :  36.73146277462389\n"
     ]
    }
   ],
   "source": [
    "import numpy as np\n",
    "import matplotlib.pyplot as plt\n",
    "from sklearn import datasets, linear_model\n",
    "from sklearn.model_selection import train_test_split\n",
    "from sklearn.metrics import mean_squared_error, r2_score\n",
    "\n",
    "boston = datasets.load_boston()\n",
    "x_train, x_test, y_train, y_test = train_test_split(boston.data,boston.target,test_size=0.1,random_state=42)\n",
    "lr = linear_model.LinearRegression()\n",
    "lr.fit(x_train, y_train)\n",
    "y_pred = lr.predict(x_test)\n",
    "print('lr coef : ', lr.coef_)\n",
    "print('lr bias : ', lr.intercept_)"
   ]
  },
  {
   "cell_type": "code",
   "execution_count": 3,
   "metadata": {},
   "outputs": [
    {
     "name": "stdout",
     "output_type": "stream",
     "text": [
      "lr MSE :  14.995852876582495\n"
     ]
    }
   ],
   "source": [
    "print('lr MSE : ',mean_squared_error(y_test,y_pred))"
   ]
  },
  {
   "cell_type": "code",
   "execution_count": 6,
   "metadata": {},
   "outputs": [
    {
     "name": "stdout",
     "output_type": "stream",
     "text": [
      "LASSO alpha = 0.01\n",
      "coef =  [-1.18101383e-01  4.04460365e-02  6.41320411e-03  2.56870602e+00\n",
      " -1.51851483e+01  3.75744629e+00  2.10687583e-03 -1.42009129e+00\n",
      "  3.04700331e-01 -1.21169599e-02 -9.11597397e-01  1.04589736e-02\n",
      " -5.56592495e-01]\n",
      "bias =  34.540253222523035\n",
      "MSE =  14.850158312324863 \n",
      "\n",
      "LASSO alpha = 0.10\n",
      "coef =  [-0.10980546  0.04312477 -0.04391546  0.8916993  -0.          3.64647697\n",
      " -0.00609632 -1.15884637  0.28082483 -0.0140987  -0.7617199   0.01107854\n",
      " -0.59934   ]\n",
      "bias =  25.570766328342287\n",
      "MSE =  15.46671011706102 \n",
      "\n",
      "LASSO alpha = 1.00\n",
      "coef =  [-0.07680943  0.03881278 -0.          0.         -0.          1.01044741\n",
      "  0.02415483 -0.64204226  0.27317799 -0.01488284 -0.73971637  0.00922596\n",
      " -0.77996817]\n",
      "bias =  40.54859458744227\n",
      "MSE =  18.645326946116253 \n",
      "\n",
      "LASSO alpha = 5.00\n",
      "coef =  [-0.          0.02508344 -0.          0.          0.          0.\n",
      "  0.03369604 -0.          0.         -0.00758654 -0.          0.00726329\n",
      " -0.7713216 ]\n",
      "bias =  30.279886321428783\n",
      "MSE =  25.17787844092427 \n",
      "\n"
     ]
    }
   ],
   "source": [
    "# LASSO\n",
    "for alpha in [0.01,0.1,1,5]:\n",
    "    lasso = linear_model.Lasso(alpha=alpha)\n",
    "    lasso.fit(x_train,y_train)\n",
    "    y_pred = lasso.predict(x_test)\n",
    "    print('LASSO alpha = %.2f' % alpha)\n",
    "    print('coef = ', lasso.coef_)\n",
    "    print('bias = ', lasso.intercept_)\n",
    "    print('MSE = ', mean_squared_error(y_test,y_pred),'\\n')"
   ]
  },
  {
   "cell_type": "code",
   "execution_count": 7,
   "metadata": {},
   "outputs": [
    {
     "name": "stdout",
     "output_type": "stream",
     "text": [
      "RIDGE alpha = 0.01\n",
      "coef =  [-1.19818084e-01  3.99373623e-02  2.07086419e-02  2.77278881e+00\n",
      " -1.84522333e+01  3.75669148e+00  4.45707705e-03 -1.46879901e+00\n",
      "  3.11581159e-01 -1.18224704e-02 -9.46092731e-01  1.03338422e-02\n",
      " -5.50275258e-01]\n",
      "bias =  36.63965776136723\n",
      "MSE =  14.988734987210332 \n",
      "\n",
      "RIDGE alpha = 0.10\n",
      "coef =  [-1.19247043e-01  4.01386158e-02  1.57972436e-02  2.74823968e+00\n",
      " -1.73335581e+01  3.76406600e+00  3.50478634e-03 -1.45329493e+00\n",
      "  3.09098171e-01 -1.19192114e-02 -9.33822410e-01  1.03761533e-02\n",
      " -5.51792398e-01]\n",
      "bias =  35.87056069531988\n",
      "MSE =  14.93350646268114 \n",
      "\n",
      "RIDGE alpha = 1.00\n",
      "coef =  [-1.15981972e-01  4.13575632e-02 -1.28777372e-02  2.57386585e+00\n",
      " -1.07877514e+01  3.79622099e+00 -1.94226164e-03 -1.36256913e+00\n",
      "  2.95114394e-01 -1.25075808e-02 -8.62983949e-01  1.06216960e-02\n",
      " -5.61553302e-01]\n",
      "bias =  31.465535305975997\n",
      "MSE =  14.775452511215349 \n",
      "\n",
      "RIDGE alpha = 5.00\n",
      "coef =  [-0.11313646  0.04293267 -0.04224067  2.18042766 -4.01849234  3.74212376\n",
      " -0.0066094  -1.2683296   0.28469643 -0.01327908 -0.79679218  0.01085445\n",
      " -0.57850558]\n",
      "bias =  27.653943355128664\n",
      "MSE =  14.958292845779399 \n",
      "\n"
     ]
    }
   ],
   "source": [
    "# RIDGE\n",
    "for alpha in [0.01,0.1,1,5]:\n",
    "    ridge = linear_model.Ridge(alpha=alpha)\n",
    "    ridge.fit(x_train,y_train)\n",
    "    y_pred = ridge.predict(x_test)\n",
    "    print('RIDGE alpha = %.2f' % alpha)\n",
    "    print('coef = ', ridge.coef_)\n",
    "    print('bias = ', ridge.intercept_)\n",
    "    print('MSE = ', mean_squared_error(y_test,y_pred),'\\n')"
   ]
  },
  {
   "cell_type": "code",
   "execution_count": null,
   "metadata": {},
   "outputs": [],
   "source": []
  }
 ],
 "metadata": {
  "kernelspec": {
   "display_name": "Python 3",
   "language": "python",
   "name": "python3"
  },
  "language_info": {
   "codemirror_mode": {
    "name": "ipython",
    "version": 3
   },
   "file_extension": ".py",
   "mimetype": "text/x-python",
   "name": "python",
   "nbconvert_exporter": "python",
   "pygments_lexer": "ipython3",
   "version": "3.7.4"
  }
 },
 "nbformat": 4,
 "nbformat_minor": 2
}
