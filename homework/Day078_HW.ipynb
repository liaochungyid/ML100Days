{
 "cells": [
  {
   "cell_type": "markdown",
   "metadata": {},
   "source": [
    "## Work\n",
    "1. 請嘗試將 preproc_x 替換成以每筆資料的 min/max 進行標準化至 -1 ~ 1 間，再進行訓練\n",
    "2. 請嘗試將 mlp 疊更深 (e.g 5~10 層)，進行訓練後觀察 learning curve 的走勢\n",
    "3. (optional) 請改用 GPU 進行訓練 (如果你有 GPU 的話)，比較使用 CPU 與 GPU 的訓練速度"
   ]
  },
  {
   "cell_type": "code",
   "execution_count": 1,
   "metadata": {},
   "outputs": [],
   "source": [
    "## \n",
    "\"\"\"\n",
    "Your code here (optional)\n",
    "確認硬體資源\n",
    "\"\"\"\n"
   ]
  },
  {
   "cell_type": "code",
   "execution_count": 1,
   "metadata": {},
   "outputs": [],
   "source": [
    "import os\n",
    "import keras\n",
    "\n",
    "# 請嘗試設定 GPU：os.environ\n"
   ]
  },
  {
   "cell_type": "code",
   "execution_count": 2,
   "metadata": {},
   "outputs": [],
   "source": [
    "train, test = keras.datasets.cifar10.load_data()"
   ]
  },
  {
   "cell_type": "code",
   "execution_count": 3,
   "metadata": {},
   "outputs": [],
   "source": [
    "## 資料前處理\n",
    "\"\"\"\n",
    "Your code here\n",
    "\"\"\"\n",
    "def preproc_x(x, flatten=True):\n",
    "    x = (x -127. ) / 128.\n",
    "    if flatten:\n",
    "        x_ = x.reshape((len(x),-1))\n",
    "    return x_\n",
    "    \n",
    "def preproc_y(y, n_class = 10):\n",
    "    if y.shape[-1] == 1:\n",
    "        y_ = keras.utils.to_categorical(y, n_class)\n",
    "    return y_"
   ]
  },
  {
   "cell_type": "code",
   "execution_count": 4,
   "metadata": {},
   "outputs": [],
   "source": [
    "x_train, y_train = train\n",
    "x_test, y_test = test\n",
    "\n",
    "# Preproc the inputs\n",
    "x_train = preproc_x(x_train)\n",
    "x_test = preproc_x(x_test)\n",
    "\n",
    "# Preprc the outputs\n",
    "y_train = preproc_y(y_train)\n",
    "y_test = preproc_y(y_test)"
   ]
  },
  {
   "cell_type": "code",
   "execution_count": 5,
   "metadata": {},
   "outputs": [
    {
     "name": "stdout",
     "output_type": "stream",
     "text": [
      "Model: \"functional_1\"\n",
      "_________________________________________________________________\n",
      "Layer (type)                 Output Shape              Param #   \n",
      "=================================================================\n",
      "input_1 (InputLayer)         [(None, 3072)]            0         \n",
      "_________________________________________________________________\n",
      "hidden_layer1 (Dense)        (None, 512)               1573376   \n",
      "_________________________________________________________________\n",
      "hidden_layer2 (Dense)        (None, 512)               262656    \n",
      "_________________________________________________________________\n",
      "hidden_layer3 (Dense)        (None, 256)               131328    \n",
      "_________________________________________________________________\n",
      "hidden_layer4 (Dense)        (None, 256)               65792     \n",
      "_________________________________________________________________\n",
      "hidden_layer5 (Dense)        (None, 128)               32896     \n",
      "_________________________________________________________________\n",
      "hidden_layer6 (Dense)        (None, 128)               16512     \n",
      "_________________________________________________________________\n",
      "hidden_layer7 (Dense)        (None, 64)                8256      \n",
      "_________________________________________________________________\n",
      "hidden_layer8 (Dense)        (None, 64)                4160      \n",
      "_________________________________________________________________\n",
      "hidden_layer9 (Dense)        (None, 32)                2080      \n",
      "_________________________________________________________________\n",
      "hidden_layer10 (Dense)       (None, 32)                1056      \n",
      "_________________________________________________________________\n",
      "output (Dense)               (None, 10)                330       \n",
      "=================================================================\n",
      "Total params: 2,098,442\n",
      "Trainable params: 2,098,442\n",
      "Non-trainable params: 0\n",
      "_________________________________________________________________\n"
     ]
    }
   ],
   "source": [
    "\"\"\"Code Here\n",
    "建立你的神經網路\n",
    "\"\"\"\n",
    "def build_mlp(input_shape, output_class = 10, num_nurones=[512,512,256,256,128,128,64,64,32,32]):\n",
    "    input_layer = keras.layers.Input(input_shape)\n",
    "    for i, n_units in enumerate(num_nurones):\n",
    "        if i == 0:\n",
    "            x = keras.layers.Dense(units=n_units, activation=\"relu\", name=\"hidden_layer\"+str(i+1))(input_layer)\n",
    "        else:\n",
    "            x = keras.layers.Dense(units=n_units, activation=\"relu\", name=\"hidden_layer\"+str(i+1))(x)\n",
    "    output_layer = keras.layers.Dense(units=output_class, activation=\"softmax\", name=\"output\")(x)\n",
    "    model = keras.models.Model(inputs=[input_layer], outputs=[output_layer])\n",
    "    return model\n",
    "model = build_mlp(x_train.shape[1:])\n",
    "model.summary()"
   ]
  },
  {
   "cell_type": "code",
   "execution_count": 6,
   "metadata": {},
   "outputs": [],
   "source": [
    "## 超參數設定\n",
    "LEARNING_RATE = 0.001\n",
    "EPOCHS = 100\n",
    "BATCH_SIZE = 256"
   ]
  },
  {
   "cell_type": "code",
   "execution_count": 7,
   "metadata": {},
   "outputs": [],
   "source": [
    "optimizer = keras.optimizers.Adam(lr=LEARNING_RATE)\n",
    "model.compile(loss=\"categorical_crossentropy\", metrics=[\"accuracy\"], optimizer=optimizer)"
   ]
  },
  {
   "cell_type": "code",
   "execution_count": 8,
   "metadata": {},
   "outputs": [
    {
     "name": "stdout",
     "output_type": "stream",
     "text": [
      "Epoch 1/100\n",
      "196/196 [==============================] - 5s 23ms/step - loss: 1.8377 - accuracy: 0.3384 - val_loss: 1.6075 - val_accuracy: 0.4346\n",
      "Epoch 2/100\n",
      "196/196 [==============================] - 4s 23ms/step - loss: 1.5573 - accuracy: 0.4502 - val_loss: 1.4985 - val_accuracy: 0.4687\n",
      "Epoch 3/100\n",
      "196/196 [==============================] - 5s 23ms/step - loss: 1.4200 - accuracy: 0.4989 - val_loss: 1.4270 - val_accuracy: 0.5011\n",
      "Epoch 4/100\n",
      "196/196 [==============================] - 5s 23ms/step - loss: 1.3184 - accuracy: 0.5379 - val_loss: 1.4088 - val_accuracy: 0.5012\n",
      "Epoch 5/100\n",
      "196/196 [==============================] - 6s 28ms/step - loss: 1.2310 - accuracy: 0.5691 - val_loss: 1.3668 - val_accuracy: 0.5277\n",
      "Epoch 6/100\n",
      "196/196 [==============================] - 5s 28ms/step - loss: 1.1321 - accuracy: 0.6019 - val_loss: 1.3771 - val_accuracy: 0.5291\n",
      "Epoch 7/100\n",
      "196/196 [==============================] - 5s 27ms/step - loss: 1.0560 - accuracy: 0.6293 - val_loss: 1.3669 - val_accuracy: 0.5373\n",
      "Epoch 8/100\n",
      "196/196 [==============================] - 5s 28ms/step - loss: 0.9771 - accuracy: 0.6564 - val_loss: 1.3689 - val_accuracy: 0.5383\n",
      "Epoch 9/100\n",
      "196/196 [==============================] - 5s 27ms/step - loss: 0.9018 - accuracy: 0.6843 - val_loss: 1.4057 - val_accuracy: 0.5392\n",
      "Epoch 10/100\n",
      "196/196 [==============================] - 5s 28ms/step - loss: 0.8286 - accuracy: 0.7115 - val_loss: 1.4774 - val_accuracy: 0.5426\n",
      "Epoch 11/100\n",
      "196/196 [==============================] - 5s 26ms/step - loss: 0.7524 - accuracy: 0.7349 - val_loss: 1.5010 - val_accuracy: 0.5438\n",
      "Epoch 12/100\n",
      "196/196 [==============================] - 5s 26ms/step - loss: 0.6906 - accuracy: 0.7595 - val_loss: 1.5690 - val_accuracy: 0.5414\n",
      "Epoch 13/100\n",
      "196/196 [==============================] - 5s 28ms/step - loss: 0.6219 - accuracy: 0.7815 - val_loss: 1.6170 - val_accuracy: 0.5360\n",
      "Epoch 14/100\n",
      "196/196 [==============================] - 6s 29ms/step - loss: 0.5605 - accuracy: 0.8033 - val_loss: 1.7124 - val_accuracy: 0.5415\n",
      "Epoch 15/100\n",
      "196/196 [==============================] - 5s 27ms/step - loss: 0.5133 - accuracy: 0.8220 - val_loss: 1.8307 - val_accuracy: 0.5385\n",
      "Epoch 16/100\n",
      "196/196 [==============================] - 6s 29ms/step - loss: 0.4628 - accuracy: 0.8394 - val_loss: 1.9997 - val_accuracy: 0.5427\n",
      "Epoch 17/100\n",
      "196/196 [==============================] - 6s 28ms/step - loss: 0.4191 - accuracy: 0.8549 - val_loss: 1.9937 - val_accuracy: 0.5311\n",
      "Epoch 18/100\n",
      "196/196 [==============================] - 5s 28ms/step - loss: 0.3886 - accuracy: 0.8661 - val_loss: 2.0440 - val_accuracy: 0.5340\n",
      "Epoch 19/100\n",
      "196/196 [==============================] - 5s 28ms/step - loss: 0.3525 - accuracy: 0.8778 - val_loss: 2.1440 - val_accuracy: 0.5263\n",
      "Epoch 20/100\n",
      "196/196 [==============================] - 5s 28ms/step - loss: 0.3267 - accuracy: 0.8888 - val_loss: 2.3777 - val_accuracy: 0.5245\n",
      "Epoch 21/100\n",
      "196/196 [==============================] - 6s 28ms/step - loss: 0.2920 - accuracy: 0.9005 - val_loss: 2.5138 - val_accuracy: 0.5290\n",
      "Epoch 22/100\n",
      "196/196 [==============================] - 6s 29ms/step - loss: 0.2667 - accuracy: 0.9083 - val_loss: 2.2616 - val_accuracy: 0.5350\n",
      "Epoch 23/100\n",
      "196/196 [==============================] - 7s 35ms/step - loss: 0.2368 - accuracy: 0.9185 - val_loss: 2.4058 - val_accuracy: 0.5304\n",
      "Epoch 24/100\n",
      "196/196 [==============================] - 6s 33ms/step - loss: 0.2492 - accuracy: 0.9164 - val_loss: 2.3472 - val_accuracy: 0.5373\n",
      "Epoch 25/100\n",
      "196/196 [==============================] - 6s 31ms/step - loss: 0.2069 - accuracy: 0.9292 - val_loss: 2.6335 - val_accuracy: 0.5375\n",
      "Epoch 26/100\n",
      "196/196 [==============================] - 7s 34ms/step - loss: 0.1981 - accuracy: 0.9338 - val_loss: 2.6016 - val_accuracy: 0.5391\n",
      "Epoch 27/100\n",
      "196/196 [==============================] - 7s 37ms/step - loss: 0.1925 - accuracy: 0.9349 - val_loss: 2.7293 - val_accuracy: 0.5328\n",
      "Epoch 28/100\n",
      "196/196 [==============================] - 6s 31ms/step - loss: 0.1750 - accuracy: 0.9400 - val_loss: 2.6342 - val_accuracy: 0.5384\n",
      "Epoch 29/100\n",
      "196/196 [==============================] - 7s 35ms/step - loss: 0.1772 - accuracy: 0.9405 - val_loss: 2.6493 - val_accuracy: 0.5369\n",
      "Epoch 30/100\n",
      "196/196 [==============================] - 7s 34ms/step - loss: 0.1587 - accuracy: 0.9479 - val_loss: 2.8417 - val_accuracy: 0.5391\n",
      "Epoch 31/100\n",
      "196/196 [==============================] - 6s 32ms/step - loss: 0.1561 - accuracy: 0.9487 - val_loss: 2.8689 - val_accuracy: 0.5296\n",
      "Epoch 32/100\n",
      "196/196 [==============================] - 6s 31ms/step - loss: 0.1428 - accuracy: 0.9517 - val_loss: 2.7871 - val_accuracy: 0.5341\n",
      "Epoch 33/100\n",
      "196/196 [==============================] - 6s 29ms/step - loss: 0.1412 - accuracy: 0.9519 - val_loss: 2.9076 - val_accuracy: 0.5268\n",
      "Epoch 34/100\n",
      "196/196 [==============================] - 6s 32ms/step - loss: 0.1490 - accuracy: 0.9499 - val_loss: 2.6569 - val_accuracy: 0.5326\n",
      "Epoch 35/100\n",
      "196/196 [==============================] - 6s 31ms/step - loss: 0.1406 - accuracy: 0.9542 - val_loss: 2.7510 - val_accuracy: 0.5360\n",
      "Epoch 36/100\n",
      "196/196 [==============================] - 6s 31ms/step - loss: 0.1280 - accuracy: 0.9569 - val_loss: 3.0310 - val_accuracy: 0.5352\n",
      "Epoch 37/100\n",
      "196/196 [==============================] - 6s 32ms/step - loss: 0.1260 - accuracy: 0.9580 - val_loss: 3.0203 - val_accuracy: 0.5317\n",
      "Epoch 38/100\n",
      "196/196 [==============================] - 6s 30ms/step - loss: 0.1256 - accuracy: 0.9577 - val_loss: 2.7874 - val_accuracy: 0.5368\n",
      "Epoch 39/100\n",
      "196/196 [==============================] - 6s 32ms/step - loss: 0.1145 - accuracy: 0.9625 - val_loss: 2.9113 - val_accuracy: 0.5318\n",
      "Epoch 40/100\n",
      "196/196 [==============================] - 6s 31ms/step - loss: 0.1065 - accuracy: 0.9649 - val_loss: 3.0472 - val_accuracy: 0.5363\n",
      "Epoch 41/100\n",
      "196/196 [==============================] - 6s 32ms/step - loss: 0.1055 - accuracy: 0.9656 - val_loss: 2.9240 - val_accuracy: 0.5315\n",
      "Epoch 42/100\n",
      "196/196 [==============================] - 6s 30ms/step - loss: 0.1060 - accuracy: 0.9655 - val_loss: 3.1104 - val_accuracy: 0.5346\n",
      "Epoch 43/100\n",
      "196/196 [==============================] - 6s 29ms/step - loss: 0.1061 - accuracy: 0.9654 - val_loss: 3.0263 - val_accuracy: 0.5426\n",
      "Epoch 44/100\n",
      "196/196 [==============================] - 6s 29ms/step - loss: 0.1028 - accuracy: 0.9674 - val_loss: 3.0586 - val_accuracy: 0.5308\n",
      "Epoch 45/100\n",
      "196/196 [==============================] - 6s 31ms/step - loss: 0.0986 - accuracy: 0.9686 - val_loss: 3.0171 - val_accuracy: 0.5329\n",
      "Epoch 46/100\n",
      "196/196 [==============================] - 6s 29ms/step - loss: 0.0991 - accuracy: 0.9680 - val_loss: 3.0945 - val_accuracy: 0.5354\n",
      "Epoch 47/100\n",
      "196/196 [==============================] - 6s 30ms/step - loss: 0.0971 - accuracy: 0.9679 - val_loss: 2.8685 - val_accuracy: 0.5324\n",
      "Epoch 48/100\n",
      "196/196 [==============================] - 6s 30ms/step - loss: 0.1015 - accuracy: 0.9669 - val_loss: 3.2061 - val_accuracy: 0.5241\n",
      "Epoch 49/100\n",
      "196/196 [==============================] - 6s 29ms/step - loss: 0.1001 - accuracy: 0.9683 - val_loss: 2.9720 - val_accuracy: 0.5289\n",
      "Epoch 50/100\n",
      "196/196 [==============================] - 6s 30ms/step - loss: 0.0843 - accuracy: 0.9724 - val_loss: 3.2300 - val_accuracy: 0.5265\n",
      "Epoch 51/100\n",
      "196/196 [==============================] - 6s 30ms/step - loss: 0.0905 - accuracy: 0.9714 - val_loss: 3.1709 - val_accuracy: 0.5335\n",
      "Epoch 52/100\n",
      "196/196 [==============================] - 6s 30ms/step - loss: 0.0835 - accuracy: 0.9732 - val_loss: 3.1298 - val_accuracy: 0.5350\n",
      "Epoch 53/100\n",
      "196/196 [==============================] - 6s 30ms/step - loss: 0.0936 - accuracy: 0.9700 - val_loss: 3.2056 - val_accuracy: 0.5323\n",
      "Epoch 54/100\n",
      "196/196 [==============================] - 6s 30ms/step - loss: 0.0834 - accuracy: 0.9739 - val_loss: 3.1010 - val_accuracy: 0.5384\n",
      "Epoch 55/100\n",
      "196/196 [==============================] - 6s 30ms/step - loss: 0.0815 - accuracy: 0.9735 - val_loss: 3.0625 - val_accuracy: 0.5396\n",
      "Epoch 56/100\n",
      "196/196 [==============================] - 6s 30ms/step - loss: 0.0795 - accuracy: 0.9746 - val_loss: 3.3546 - val_accuracy: 0.5396\n",
      "Epoch 57/100\n"
     ]
    },
    {
     "name": "stdout",
     "output_type": "stream",
     "text": [
      "196/196 [==============================] - 6s 29ms/step - loss: 0.0837 - accuracy: 0.9727 - val_loss: 3.1169 - val_accuracy: 0.5376\n",
      "Epoch 58/100\n",
      "196/196 [==============================] - 5s 28ms/step - loss: 0.0725 - accuracy: 0.9766 - val_loss: 2.8638 - val_accuracy: 0.5325\n",
      "Epoch 59/100\n",
      "196/196 [==============================] - 5s 28ms/step - loss: 0.0811 - accuracy: 0.9752 - val_loss: 3.1812 - val_accuracy: 0.5390\n",
      "Epoch 60/100\n",
      "196/196 [==============================] - 6s 29ms/step - loss: 0.0896 - accuracy: 0.9713 - val_loss: 2.8774 - val_accuracy: 0.5358\n",
      "Epoch 61/100\n",
      "196/196 [==============================] - 5s 28ms/step - loss: 0.0775 - accuracy: 0.9754 - val_loss: 3.3486 - val_accuracy: 0.5368\n",
      "Epoch 62/100\n",
      "196/196 [==============================] - 5s 28ms/step - loss: 0.0723 - accuracy: 0.9760 - val_loss: 3.1115 - val_accuracy: 0.5385\n",
      "Epoch 63/100\n",
      "196/196 [==============================] - 6s 28ms/step - loss: 0.0798 - accuracy: 0.9739 - val_loss: 3.4292 - val_accuracy: 0.5380\n",
      "Epoch 64/100\n",
      "196/196 [==============================] - 6s 28ms/step - loss: 0.0753 - accuracy: 0.9761 - val_loss: 3.1798 - val_accuracy: 0.5397\n",
      "Epoch 65/100\n",
      "196/196 [==============================] - 6s 32ms/step - loss: 0.0693 - accuracy: 0.9780 - val_loss: 2.9891 - val_accuracy: 0.5332\n",
      "Epoch 66/100\n",
      "196/196 [==============================] - 6s 29ms/step - loss: 0.0664 - accuracy: 0.9791 - val_loss: 3.2500 - val_accuracy: 0.5405\n",
      "Epoch 67/100\n",
      "196/196 [==============================] - 6s 28ms/step - loss: 0.0597 - accuracy: 0.9816 - val_loss: 3.2726 - val_accuracy: 0.5463\n",
      "Epoch 68/100\n",
      "196/196 [==============================] - 5s 28ms/step - loss: 0.0743 - accuracy: 0.9762 - val_loss: 2.9244 - val_accuracy: 0.5391\n",
      "Epoch 69/100\n",
      "196/196 [==============================] - 5s 28ms/step - loss: 0.0712 - accuracy: 0.9779 - val_loss: 3.2658 - val_accuracy: 0.5385\n",
      "Epoch 70/100\n",
      "196/196 [==============================] - 5s 28ms/step - loss: 0.0617 - accuracy: 0.9803 - val_loss: 3.2190 - val_accuracy: 0.5380\n",
      "Epoch 71/100\n",
      "196/196 [==============================] - 5s 28ms/step - loss: 0.0762 - accuracy: 0.9764 - val_loss: 3.0309 - val_accuracy: 0.5368\n",
      "Epoch 72/100\n",
      "196/196 [==============================] - 5s 28ms/step - loss: 0.0648 - accuracy: 0.9792 - val_loss: 3.3775 - val_accuracy: 0.5439\n",
      "Epoch 73/100\n",
      "196/196 [==============================] - 6s 29ms/step - loss: 0.0744 - accuracy: 0.9767 - val_loss: 3.1048 - val_accuracy: 0.5358\n",
      "Epoch 74/100\n",
      "196/196 [==============================] - 6s 28ms/step - loss: 0.0653 - accuracy: 0.9786 - val_loss: 3.0606 - val_accuracy: 0.5368\n",
      "Epoch 75/100\n",
      "196/196 [==============================] - 6s 28ms/step - loss: 0.0549 - accuracy: 0.9827 - val_loss: 3.6545 - val_accuracy: 0.5317\n",
      "Epoch 76/100\n",
      "196/196 [==============================] - 5s 28ms/step - loss: 0.0687 - accuracy: 0.9791 - val_loss: 3.3950 - val_accuracy: 0.5400\n",
      "Epoch 77/100\n",
      "196/196 [==============================] - 6s 28ms/step - loss: 0.0664 - accuracy: 0.9793 - val_loss: 3.4320 - val_accuracy: 0.5421\n",
      "Epoch 78/100\n",
      "196/196 [==============================] - 6s 29ms/step - loss: 0.0621 - accuracy: 0.9806 - val_loss: 3.5478 - val_accuracy: 0.5368\n",
      "Epoch 79/100\n",
      "196/196 [==============================] - 5s 28ms/step - loss: 0.0524 - accuracy: 0.9841 - val_loss: 3.4245 - val_accuracy: 0.5353\n",
      "Epoch 80/100\n",
      "196/196 [==============================] - 5s 28ms/step - loss: 0.0540 - accuracy: 0.9833 - val_loss: 3.3199 - val_accuracy: 0.5360\n",
      "Epoch 81/100\n",
      "196/196 [==============================] - 6s 28ms/step - loss: 0.0625 - accuracy: 0.9813 - val_loss: 3.5321 - val_accuracy: 0.5365\n",
      "Epoch 82/100\n",
      "196/196 [==============================] - 6s 28ms/step - loss: 0.0534 - accuracy: 0.9831 - val_loss: 3.4265 - val_accuracy: 0.5387\n",
      "Epoch 83/100\n",
      "196/196 [==============================] - 6s 28ms/step - loss: 0.0607 - accuracy: 0.9801 - val_loss: 3.4346 - val_accuracy: 0.5357\n",
      "Epoch 84/100\n",
      "196/196 [==============================] - 6s 28ms/step - loss: 0.0559 - accuracy: 0.9830 - val_loss: 3.4742 - val_accuracy: 0.5359\n",
      "Epoch 85/100\n",
      "196/196 [==============================] - 6s 28ms/step - loss: 0.0608 - accuracy: 0.9811 - val_loss: 3.2102 - val_accuracy: 0.5368\n",
      "Epoch 86/100\n",
      "196/196 [==============================] - 6s 28ms/step - loss: 0.0570 - accuracy: 0.9829 - val_loss: 3.8438 - val_accuracy: 0.5368\n",
      "Epoch 87/100\n",
      "196/196 [==============================] - 6s 29ms/step - loss: 0.0611 - accuracy: 0.9812 - val_loss: 3.1622 - val_accuracy: 0.5336\n",
      "Epoch 88/100\n",
      "196/196 [==============================] - 6s 28ms/step - loss: 0.0597 - accuracy: 0.9816 - val_loss: 3.4578 - val_accuracy: 0.5414\n",
      "Epoch 89/100\n",
      "196/196 [==============================] - 6s 29ms/step - loss: 0.0561 - accuracy: 0.9819 - val_loss: 3.4965 - val_accuracy: 0.5355\n",
      "Epoch 90/100\n",
      "196/196 [==============================] - 6s 29ms/step - loss: 0.0543 - accuracy: 0.9829 - val_loss: 3.4455 - val_accuracy: 0.5408\n",
      "Epoch 91/100\n",
      "196/196 [==============================] - 5s 28ms/step - loss: 0.0492 - accuracy: 0.9841 - val_loss: 3.6005 - val_accuracy: 0.5436\n",
      "Epoch 92/100\n",
      "196/196 [==============================] - 5s 27ms/step - loss: 0.0496 - accuracy: 0.9848 - val_loss: 3.3782 - val_accuracy: 0.5423\n",
      "Epoch 93/100\n",
      "196/196 [==============================] - 5s 26ms/step - loss: 0.0489 - accuracy: 0.9850 - val_loss: 3.4051 - val_accuracy: 0.5405\n",
      "Epoch 94/100\n",
      "196/196 [==============================] - 6s 29ms/step - loss: 0.0519 - accuracy: 0.9839 - val_loss: 3.5799 - val_accuracy: 0.5390\n",
      "Epoch 95/100\n",
      "196/196 [==============================] - 6s 32ms/step - loss: 0.0556 - accuracy: 0.9831 - val_loss: 3.5317 - val_accuracy: 0.5379\n",
      "Epoch 96/100\n",
      "196/196 [==============================] - 5s 27ms/step - loss: 0.0574 - accuracy: 0.9819 - val_loss: 3.7659 - val_accuracy: 0.5382\n",
      "Epoch 97/100\n",
      "196/196 [==============================] - 5s 27ms/step - loss: 0.0519 - accuracy: 0.9834 - val_loss: 3.4000 - val_accuracy: 0.5388\n",
      "Epoch 98/100\n",
      "196/196 [==============================] - 5s 27ms/step - loss: 0.0533 - accuracy: 0.9839 - val_loss: 3.5939 - val_accuracy: 0.5436\n",
      "Epoch 99/100\n",
      "196/196 [==============================] - 5s 27ms/step - loss: 0.0516 - accuracy: 0.9844 - val_loss: 3.9545 - val_accuracy: 0.5351\n",
      "Epoch 100/100\n",
      "196/196 [==============================] - 5s 27ms/step - loss: 0.0517 - accuracy: 0.9834 - val_loss: 3.3391 - val_accuracy: 0.5398\n"
     ]
    },
    {
     "data": {
      "text/plain": [
       "<tensorflow.python.keras.callbacks.History at 0x221939171c8>"
      ]
     },
     "execution_count": 8,
     "metadata": {},
     "output_type": "execute_result"
    }
   ],
   "source": [
    "model.fit(x_train, y_train, \n",
    "          epochs=EPOCHS, \n",
    "          batch_size=BATCH_SIZE, \n",
    "          validation_data=(x_test, y_test), \n",
    "          shuffle=True)"
   ]
  },
  {
   "cell_type": "code",
   "execution_count": 10,
   "metadata": {},
   "outputs": [
    {
     "data": {
      "image/png": "[encoded data removed]",
      "text/plain": [
       "<Figure size 432x288 with 1 Axes>"
      ]
     },
     "metadata": {
      "needs_background": "light"
     },
     "output_type": "display_data"
    },
    {
     "data": {
      "image/png": "[encoded data removed]",
      "text/plain": [
       "<Figure size 432x288 with 1 Axes>"
      ]
     },
     "metadata": {
      "needs_background": "light"
     },
     "output_type": "display_data"
    }
   ],
   "source": [
    "import matplotlib.pyplot as plt\n",
    "\n",
    "\n",
    "train_loss = model.history.history[\"loss\"]\n",
    "valid_loss = model.history.history[\"val_loss\"]\n",
    "\n",
    "train_acc = model.history.history[\"accuracy\"]\n",
    "valid_acc = model.history.history[\"val_accuracy\"]\n",
    "\n",
    "plt.plot(range(len(train_loss)), train_loss, label=\"train loss\")\n",
    "plt.plot(range(len(valid_loss)), valid_loss, label=\"valid loss\")\n",
    "plt.legend()\n",
    "plt.title(\"Loss\")\n",
    "plt.show()\n",
    "\n",
    "plt.plot(range(len(train_acc)), train_acc, label=\"train accuracy\")\n",
    "plt.plot(range(len(valid_acc)), valid_acc, label=\"valid accuracy\")\n",
    "plt.legend()\n",
    "plt.title(\"Accuracy\")\n",
    "plt.show()"
   ]
  },
  {
   "cell_type": "code",
   "execution_count": null,
   "metadata": {},
   "outputs": [],
   "source": []
  }
 ],
 "metadata": {
  "kernelspec": {
   "display_name": "Python 3",
   "language": "python",
   "name": "python3"
  },
  "language_info": {
   "codemirror_mode": {
    "name": "ipython",
    "version": 3
   },
   "file_extension": ".py",
   "mimetype": "text/x-python",
   "name": "python",
   "nbconvert_exporter": "python",
   "pygments_lexer": "ipython3",
   "version": "3.7.4"
  }
 },
 "nbformat": 4,
 "nbformat_minor": 2
}
