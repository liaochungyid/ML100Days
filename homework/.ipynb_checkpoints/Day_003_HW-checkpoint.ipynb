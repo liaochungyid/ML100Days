{
 "cells": [
  {
   "cell_type": "markdown",
   "metadata": {},
   "source": [
    "## [作業目標]\n",
    "持續接觸有關機器學習的相關專案與最新技術"
   ]
  },
  {
   "cell_type": "markdown",
   "metadata": {},
   "source": [
    "## [作業重點]\n",
    "透過觀察頂尖公司的機器學習文章，來了解各公司是怎麼應用機器學習在實際的專案上"
   ]
  },
  {
   "cell_type": "markdown",
   "metadata": {},
   "source": [
    "## [作業]\n",
    "今天的作業希望大家能夠看看全球機器學習巨頭們在做的機器學習專案。以 google 為例，下圖是 Google 內部專案使用機器學習的數量，隨著時間進展，現在早已超過 2000 個專案在使用機器學習。"
   ]
  },
  {
   "cell_type": "markdown",
   "metadata": {},
   "source": [
    "![image](https://cdn-images-1.medium.com/max/800/1*U_L8qI8RmYS-MOBrYvXhSA.png)"
   ]
  },
  {
   "cell_type": "markdown",
   "metadata": {},
   "source": [
    "底下幫同學整理幾間知名企業的 blog 或機器學習網站 (自行搜尋也可)，這些網站都會整理最新的機器學習專案或者是技術文章，請挑選一篇文章閱讀並試著回答\n",
    "1. 專案的目標？ (要解決什麼問題）\n",
    "2. 使用的技術是？ (只需知道名稱即可，例如：使用 CNN 卷積神經網路做影像分類)\n",
    "3. 資料來源？ "
   ]
  },
  {
   "cell_type": "markdown",
   "metadata": {},
   "source": [
    "- [Google AI blog](https://ai.googleblog.com/)\n",
    "- [Facebook Research blog](https://research.fb.com/blog/)\n",
    "- [Apple machine learning journal](https://machinelearning.apple.com/)\n",
    "- [機器之心](https://www.jiqizhixin.com/)\n",
    "- [雷鋒網](http://www.leiphone.com/category/ai)"
   ]
  },
  {
   "cell_type": "code",
   "execution_count": null,
   "metadata": {},
   "outputs": [],
   "source": [
    "挑選文章：時間序列預測：使用ARIMA預期股票價格(Time-Series Forecasting: Predicting Stock Prices Using An ARIMA Model)\n",
    "文章出處：medium.com\n",
    "連結網址：https://towardsdatascience.com/time-series-forecasting-predicting-stock-prices-using-an-arima-model-2e3b3080bd70\n",
    "\n",
    "1. 專案目標？\n",
    "用機器學習判斷股票未來價格；本文章僅使用歷史股票價格(特斯拉，TESLA)做預測，未考慮其他因素(基本面、籌碼面等)，只單純作為ARIMA時間序列預測方法的解說，\n",
    "不可作為實際股票買賣價格的操作依據。\n",
    "\n",
    "2. 使用的技術是？\n",
    "使用時間序列預測常見的方法，自動回歸整合移動平均模型(AutoRegressive Integrated Moving Average (ARIMA) model)；\n",
    "其中，自動回歸(Auto Regressive)意旨模型使用觀察目標與預先收集的時間延遲資料，\n",
    "整合(Integration)是運用初級資料的差值使時間序列有穩定的移動平均(MA)，\n",
    "移動平均(moving averging)是模型利用觀察目標與殘差的關聯性來預測下一個時間點的價格；\n",
    "模型中包含三個可調參數(p,d,q)，控制觀察的時間延遲數量、差值的維度、與移動平均參考的時間寬度。\n",
    "\n",
    "3. 資料來源？\n",
    "股價資料來源來自雅虎(yahoo)的金融頁面(finance)，其可控制下載資料區間(文中使用2015至2020資料)，下載檔案格式維csv。\n",
    "70%作為訓練資料，30%作為測試資料，文中平均平方誤差(MSE)為741，誤差略大，但看圖表顯示實際與預測圖卻又相當接近。\n"
   ]
  }
 ],
 "metadata": {
  "kernelspec": {
   "display_name": "Python 3",
   "language": "python",
   "name": "python3"
  },
  "language_info": {
   "codemirror_mode": {
    "name": "ipython",
    "version": 3
   },
   "file_extension": ".py",
   "mimetype": "text/x-python",
   "name": "python",
   "nbconvert_exporter": "python",
   "pygments_lexer": "ipython3",
   "version": "3.7.4"
  }
 },
 "nbformat": 4,
 "nbformat_minor": 2
}
