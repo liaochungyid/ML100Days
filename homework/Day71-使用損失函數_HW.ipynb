{
 "cells": [
  {
   "cell_type": "markdown",
   "metadata": {
    "colab_type": "text",
    "id": "cj4tE8e8iUtO"
   },
   "source": [
    "#   \n",
    "\n",
    "# 作業目標:\n",
    "\n",
    "    1. 藉由固定的 dataset, 來驗證不同loss function\n",
    "    2. Dataset 的特性跟我們選用的loss function 對accrancy 的影響\n",
    "    \n",
    "    \n",
    "# 作業重點: \n",
    "    請分別選用 \"MSE\", \"binary _crossentropy\"\n",
    "    查看Train/test accurancy and loss rate\n",
    "    "
   ]
  },
  {
   "cell_type": "markdown",
   "metadata": {
    "colab_type": "text",
    "id": "R51J4KyyiUsL"
   },
   "source": [
    "# 導入必要的函數"
   ]
  },
  {
   "cell_type": "code",
   "execution_count": 1,
   "metadata": {
    "colab": {},
    "colab_type": "code",
    "id": "Qd68OQjciUsM"
   },
   "outputs": [],
   "source": [
    "from keras.datasets import cifar10\n",
    "import numpy as np\n",
    "np.random.seed(10)"
   ]
  },
  {
   "cell_type": "markdown",
   "metadata": {
    "colab_type": "text",
    "id": "GxKuzQLQiUsP"
   },
   "source": [
    "# 資料準備"
   ]
  },
  {
   "cell_type": "code",
   "execution_count": 2,
   "metadata": {
    "colab": {},
    "colab_type": "code",
    "id": "MIbFZdTCiUsQ"
   },
   "outputs": [],
   "source": [
    "#取得Keras Dataset\n",
    "(x_img_train,y_label_train),(x_img_test,y_label_test)=cifar10.load_data()"
   ]
  },
  {
   "cell_type": "code",
   "execution_count": 3,
   "metadata": {
    "colab": {},
    "colab_type": "code",
    "id": "J8CJVjNOiUsS"
   },
   "outputs": [
    {
     "name": "stdout",
     "output_type": "stream",
     "text": [
      "train data: images: (50000, 32, 32, 3)  labels: (50000, 1)\n",
      "test  data: images: (10000, 32, 32, 3)  labels: (10000, 1)\n"
     ]
    }
   ],
   "source": [
    "#確認 CIFAR10 Dataset 資料維度\n",
    "print(\"train data:\",'images:',x_img_train.shape,\n",
    "      \" labels:\",y_label_train.shape) \n",
    "print(\"test  data:\",'images:',x_img_test.shape ,\n",
    "      \" labels:\",y_label_test.shape) "
   ]
  },
  {
   "cell_type": "code",
   "execution_count": 4,
   "metadata": {
    "colab": {},
    "colab_type": "code",
    "id": "V3P6P4DXiUsV"
   },
   "outputs": [],
   "source": [
    "#資料正規化\n",
    "x_img_train_normalize = x_img_train.astype('float32') / 255.0\n",
    "x_img_test_normalize = x_img_test.astype('float32') / 255.0"
   ]
  },
  {
   "cell_type": "code",
   "execution_count": 5,
   "metadata": {
    "colab": {},
    "colab_type": "code",
    "id": "vsDyjKYliUsX"
   },
   "outputs": [
    {
     "data": {
      "text/plain": [
       "(10000, 10)"
      ]
     },
     "execution_count": 5,
     "metadata": {},
     "output_type": "execute_result"
    }
   ],
   "source": [
    "#針對Label 做 ONE HOT ENCODE\n",
    "from keras.utils import np_utils\n",
    "y_label_train_OneHot = np_utils.to_categorical(y_label_train)\n",
    "y_label_test_OneHot = np_utils.to_categorical(y_label_test)\n",
    "y_label_test_OneHot.shape"
   ]
  },
  {
   "cell_type": "markdown",
   "metadata": {
    "colab_type": "text",
    "id": "RutW2OtgiUsZ"
   },
   "source": [
    "# 建立模型"
   ]
  },
  {
   "cell_type": "code",
   "execution_count": 6,
   "metadata": {
    "colab": {},
    "colab_type": "code",
    "id": "aHz592aXiUsa"
   },
   "outputs": [],
   "source": [
    "from keras.models import Sequential\n",
    "from keras.layers import Dense, Dropout, Activation, Flatten\n",
    "from keras.layers import Conv2D, MaxPooling2D, ZeroPadding2D"
   ]
  },
  {
   "cell_type": "code",
   "execution_count": 7,
   "metadata": {
    "colab": {},
    "colab_type": "code",
    "id": "hslqrIp0iUse"
   },
   "outputs": [],
   "source": [
    "model = Sequential()"
   ]
  },
  {
   "cell_type": "code",
   "execution_count": 8,
   "metadata": {
    "colab": {},
    "colab_type": "code",
    "id": "Hqe35hs2iUsi"
   },
   "outputs": [],
   "source": [
    "#卷積層1"
   ]
  },
  {
   "cell_type": "code",
   "execution_count": 8,
   "metadata": {
    "colab": {},
    "colab_type": "code",
    "id": "ED7dqe1YiUsm"
   },
   "outputs": [],
   "source": [
    "model.add(Conv2D(filters=32,kernel_size=(3,3),\n",
    "                 input_shape=(32, 32,3), \n",
    "                 activation='relu', \n",
    "                 padding='same'))"
   ]
  },
  {
   "cell_type": "code",
   "execution_count": 9,
   "metadata": {
    "colab": {},
    "colab_type": "code",
    "id": "n-GRKmPViUso"
   },
   "outputs": [],
   "source": [
    "model.add(Dropout(rate=0.25))"
   ]
  },
  {
   "cell_type": "code",
   "execution_count": 10,
   "metadata": {
    "colab": {},
    "colab_type": "code",
    "id": "GlWnnD1uiUsw"
   },
   "outputs": [],
   "source": [
    "model.add(MaxPooling2D(pool_size=(2, 2)))"
   ]
  },
  {
   "cell_type": "code",
   "execution_count": 12,
   "metadata": {
    "colab": {},
    "colab_type": "code",
    "id": "nawlkt55iUsy"
   },
   "outputs": [],
   "source": [
    "#卷積層2與池化層2"
   ]
  },
  {
   "cell_type": "code",
   "execution_count": 11,
   "metadata": {
    "colab": {},
    "colab_type": "code",
    "id": "xxyETiKNiUs1"
   },
   "outputs": [],
   "source": [
    "model.add(Conv2D(filters=64, kernel_size=(3, 3), \n",
    "                 activation='relu', padding='same'))"
   ]
  },
  {
   "cell_type": "code",
   "execution_count": 12,
   "metadata": {
    "colab": {},
    "colab_type": "code",
    "id": "RqcKWtqGiUs2"
   },
   "outputs": [],
   "source": [
    "model.add(Dropout(0.25))"
   ]
  },
  {
   "cell_type": "code",
   "execution_count": 13,
   "metadata": {
    "colab": {},
    "colab_type": "code",
    "id": "BUOOzlqfiUs4"
   },
   "outputs": [],
   "source": [
    "model.add(MaxPooling2D(pool_size=(2, 2)))"
   ]
  },
  {
   "cell_type": "code",
   "execution_count": 16,
   "metadata": {
    "colab": {},
    "colab_type": "code",
    "id": "LpkppB2siUs7"
   },
   "outputs": [],
   "source": [
    "#建立神經網路(平坦層、隱藏層、輸出層)"
   ]
  },
  {
   "cell_type": "code",
   "execution_count": 14,
   "metadata": {
    "colab": {},
    "colab_type": "code",
    "id": "UQOfU54_iUs_"
   },
   "outputs": [],
   "source": [
    "model.add(Flatten())\n",
    "model.add(Dropout(rate=0.25))"
   ]
  },
  {
   "cell_type": "code",
   "execution_count": 15,
   "metadata": {
    "colab": {},
    "colab_type": "code",
    "id": "_NV-8sq4iUtD"
   },
   "outputs": [],
   "source": [
    "model.add(Dense(1024, activation='relu'))\n",
    "model.add(Dropout(rate=0.25))"
   ]
  },
  {
   "cell_type": "code",
   "execution_count": 16,
   "metadata": {
    "colab": {},
    "colab_type": "code",
    "id": "qVK77krOiUtF"
   },
   "outputs": [],
   "source": [
    "model.add(Dense(10, activation='softmax'))"
   ]
  },
  {
   "cell_type": "code",
   "execution_count": 17,
   "metadata": {
    "colab": {},
    "colab_type": "code",
    "id": "ZxzRIjR0iUtH"
   },
   "outputs": [
    {
     "name": "stdout",
     "output_type": "stream",
     "text": [
      "Model: \"sequential\"\n",
      "_________________________________________________________________\n",
      "Layer (type)                 Output Shape              Param #   \n",
      "=================================================================\n",
      "conv2d (Conv2D)              (None, 32, 32, 32)        896       \n",
      "_________________________________________________________________\n",
      "dropout (Dropout)            (None, 32, 32, 32)        0         \n",
      "_________________________________________________________________\n",
      "max_pooling2d (MaxPooling2D) (None, 16, 16, 32)        0         \n",
      "_________________________________________________________________\n",
      "conv2d_1 (Conv2D)            (None, 16, 16, 64)        18496     \n",
      "_________________________________________________________________\n",
      "dropout_1 (Dropout)          (None, 16, 16, 64)        0         \n",
      "_________________________________________________________________\n",
      "max_pooling2d_1 (MaxPooling2 (None, 8, 8, 64)          0         \n",
      "_________________________________________________________________\n",
      "flatten (Flatten)            (None, 4096)              0         \n",
      "_________________________________________________________________\n",
      "dropout_2 (Dropout)          (None, 4096)              0         \n",
      "_________________________________________________________________\n",
      "dense (Dense)                (None, 1024)              4195328   \n",
      "_________________________________________________________________\n",
      "dropout_3 (Dropout)          (None, 1024)              0         \n",
      "_________________________________________________________________\n",
      "dense_1 (Dense)              (None, 10)                10250     \n",
      "=================================================================\n",
      "Total params: 4,224,970\n",
      "Trainable params: 4,224,970\n",
      "Non-trainable params: 0\n",
      "_________________________________________________________________\n",
      "None\n"
     ]
    }
   ],
   "source": [
    "#檢查model 的STACK\n",
    "print(model.summary())"
   ]
  },
  {
   "cell_type": "markdown",
   "metadata": {
    "colab_type": "text",
    "id": "QJCtpJM0iUtJ"
   },
   "source": [
    "# 載入之前訓練的模型"
   ]
  },
  {
   "cell_type": "code",
   "execution_count": 18,
   "metadata": {
    "colab": {},
    "colab_type": "code",
    "id": "JU3A6NzQiUtK"
   },
   "outputs": [
    {
     "name": "stdout",
     "output_type": "stream",
     "text": [
      "載入模型失敗!開始訓練一個新模型\n"
     ]
    }
   ],
   "source": [
    "try:\n",
    "    model.load_weights(\"SaveModel/cifarCnnModel.h5\")\n",
    "    print(\"載入模型成功!繼續訓練模型\")\n",
    "except :    \n",
    "    print(\"載入模型失敗!開始訓練一個新模型\")"
   ]
  },
  {
   "cell_type": "markdown",
   "metadata": {
    "colab_type": "text",
    "id": "qBbCuziziUtM"
   },
   "source": [
    "# 訓練模型"
   ]
  },
  {
   "cell_type": "code",
   "execution_count": 19,
   "metadata": {
    "colab": {},
    "colab_type": "code",
    "id": "Q6BiBcseiUtP"
   },
   "outputs": [
    {
     "name": "stdout",
     "output_type": "stream",
     "text": [
      "Epoch 1/12\n",
      "293/293 [==============================] - 73s 249ms/step - loss: 2.1324 - accuracy: 0.2148 - val_loss: 2.0266 - val_accuracy: 0.3146\n",
      "Epoch 2/12\n",
      "293/293 [==============================] - 57s 194ms/step - loss: 1.9263 - accuracy: 0.3082 - val_loss: 1.9423 - val_accuracy: 0.3470\n",
      "Epoch 3/12\n",
      "293/293 [==============================] - 59s 201ms/step - loss: 1.8011 - accuracy: 0.3604 - val_loss: 1.7966 - val_accuracy: 0.4045\n",
      "Epoch 4/12\n",
      "293/293 [==============================] - 59s 203ms/step - loss: 1.7039 - accuracy: 0.3936 - val_loss: 1.7515 - val_accuracy: 0.4214\n",
      "Epoch 5/12\n",
      "293/293 [==============================] - 57s 196ms/step - loss: 1.6301 - accuracy: 0.4218 - val_loss: 1.6576 - val_accuracy: 0.4496\n",
      "Epoch 6/12\n",
      "293/293 [==============================] - 58s 197ms/step - loss: 1.5697 - accuracy: 0.4392 - val_loss: 1.5990 - val_accuracy: 0.4684\n",
      "Epoch 7/12\n",
      "293/293 [==============================] - 58s 200ms/step - loss: 1.5168 - accuracy: 0.4577 - val_loss: 1.5445 - val_accuracy: 0.4906\n",
      "Epoch 8/12\n",
      "293/293 [==============================] - 58s 199ms/step - loss: 1.4790 - accuracy: 0.4702 - val_loss: 1.5196 - val_accuracy: 0.4994\n",
      "Epoch 9/12\n",
      "293/293 [==============================] - 60s 204ms/step - loss: 1.4419 - accuracy: 0.4844 - val_loss: 1.4920 - val_accuracy: 0.5009\n",
      "Epoch 10/12\n",
      "293/293 [==============================] - 59s 200ms/step - loss: 1.4210 - accuracy: 0.4906 - val_loss: 1.4899 - val_accuracy: 0.4937\n",
      "Epoch 11/12\n",
      "293/293 [==============================] - 59s 201ms/step - loss: 1.3931 - accuracy: 0.5039 - val_loss: 1.4688 - val_accuracy: 0.5211\n",
      "Epoch 12/12\n",
      "293/293 [==============================] - 60s 203ms/step - loss: 1.3711 - accuracy: 0.5109 - val_loss: 1.4586 - val_accuracy: 0.5159\n"
     ]
    }
   ],
   "source": [
    "model.compile(loss='categorical_crossentropy', optimizer='sgd', metrics=['accuracy'])\n",
    "\n",
    "'''\n",
    "作業:\n",
    "請分別選用 \"MSE\", \"binary_crossentropy\"\n",
    "查看Train/test accurancy and loss rate\n",
    "'''\n",
    "train_history=model.fit(x_img_train_normalize, y_label_train_OneHot,\n",
    "                        validation_split=0.25,\n",
    "                        epochs=12, batch_size=128, verbose=1) "
   ]
  },
  {
   "cell_type": "code",
   "execution_count": 19,
   "metadata": {
    "colab": {},
    "colab_type": "code",
    "id": "4-GdDgmQiUtS"
   },
   "outputs": [],
   "source": [
    "import matplotlib.pyplot as plt\n",
    "%matplotlib inline\n",
    "\n",
    "#定義一個繪圖函數\n",
    "def show_train_history(train_acc,test_acc):\n",
    "    plt.plot(train_history.history[train_acc])\n",
    "    plt.plot(train_history.history[test_acc])\n",
    "    plt.title('Train History')\n",
    "    plt.ylabel('Accuracy')\n",
    "    plt.xlabel('Epoch')\n",
    "    plt.legend(['train_acc', 'val_acc'], loc='upper left')\n",
    "    plt.show()"
   ]
  },
  {
   "cell_type": "code",
   "execution_count": 21,
   "metadata": {},
   "outputs": [
    {
     "name": "stdout",
     "output_type": "stream",
     "text": [
      "categorical_crossentropy\n"
     ]
    },
    {
     "data": {
      "image/png": "[encoded data removed]",
      "text/plain": [
       "<Figure size 432x288 with 1 Axes>"
      ]
     },
     "metadata": {
      "needs_background": "light"
     },
     "output_type": "display_data"
    },
    {
     "data": {
      "image/png": "[encoded data removed]",
      "text/plain": [
       "<Figure size 432x288 with 1 Axes>"
      ]
     },
     "metadata": {
      "needs_background": "light"
     },
     "output_type": "display_data"
    }
   ],
   "source": [
    "# kernel重啟，不重跑(保留訓練結果圖)\n",
    "print('categorical_crossentropy')\n",
    "show_train_history('accuracy','val_accuracy')\n",
    "show_train_history('loss','val_loss')"
   ]
  },
  {
   "cell_type": "code",
   "execution_count": 20,
   "metadata": {},
   "outputs": [
    {
     "name": "stdout",
     "output_type": "stream",
     "text": [
      "Epoch 1/12\n",
      "293/293 [==============================] - 58s 196ms/step - loss: 0.0907 - accuracy: 0.0973 - val_loss: 0.0900 - val_accuracy: 0.1281\n",
      "Epoch 2/12\n",
      "293/293 [==============================] - 59s 200ms/step - loss: 0.0903 - accuracy: 0.1076 - val_loss: 0.0899 - val_accuracy: 0.1346\n",
      "Epoch 3/12\n",
      "293/293 [==============================] - 58s 197ms/step - loss: 0.0901 - accuracy: 0.1189 - val_loss: 0.0898 - val_accuracy: 0.1434\n",
      "Epoch 4/12\n",
      "293/293 [==============================] - 58s 197ms/step - loss: 0.0899 - accuracy: 0.1216 - val_loss: 0.0897 - val_accuracy: 0.1584\n",
      "Epoch 5/12\n",
      "293/293 [==============================] - 58s 199ms/step - loss: 0.0898 - accuracy: 0.1273 - val_loss: 0.0896 - val_accuracy: 0.1688\n",
      "Epoch 6/12\n",
      "293/293 [==============================] - 58s 199ms/step - loss: 0.0896 - accuracy: 0.1366 - val_loss: 0.0895 - val_accuracy: 0.1783\n",
      "Epoch 7/12\n",
      "293/293 [==============================] - 58s 200ms/step - loss: 0.0895 - accuracy: 0.1413 - val_loss: 0.0894 - val_accuracy: 0.1865\n",
      "Epoch 8/12\n",
      "293/293 [==============================] - 61s 207ms/step - loss: 0.0894 - accuracy: 0.1469 - val_loss: 0.0893 - val_accuracy: 0.1927\n",
      "Epoch 9/12\n",
      "293/293 [==============================] - 58s 199ms/step - loss: 0.0892 - accuracy: 0.1557 - val_loss: 0.0892 - val_accuracy: 0.1987\n",
      "Epoch 10/12\n",
      "293/293 [==============================] - 59s 202ms/step - loss: 0.0891 - accuracy: 0.1571 - val_loss: 0.0891 - val_accuracy: 0.2085\n",
      "Epoch 11/12\n",
      "293/293 [==============================] - 60s 205ms/step - loss: 0.0890 - accuracy: 0.1635 - val_loss: 0.0890 - val_accuracy: 0.2135\n",
      "Epoch 12/12\n",
      "293/293 [==============================] - 61s 207ms/step - loss: 0.0888 - accuracy: 0.1693 - val_loss: 0.0889 - val_accuracy: 0.2206\n"
     ]
    }
   ],
   "source": [
    "model.compile(loss='MSE', optimizer='sgd', metrics=['accuracy'])\n",
    "\n",
    "'''\n",
    "作業:\n",
    "請分別選用 \"MSE\", \"binary_crossentropy\"\n",
    "查看Train/test accurancy and loss rate\n",
    "'''\n",
    "train_history=model.fit(x_img_train_normalize, y_label_train_OneHot,\n",
    "                        validation_split=0.25,\n",
    "                        epochs=12, batch_size=128, verbose=1) "
   ]
  },
  {
   "cell_type": "code",
   "execution_count": 21,
   "metadata": {},
   "outputs": [
    {
     "name": "stdout",
     "output_type": "stream",
     "text": [
      "MSE\n"
     ]
    },
    {
     "data": {
      "image/png": "[encoded data removed]",
      "text/plain": [
       "<Figure size 432x288 with 1 Axes>"
      ]
     },
     "metadata": {
      "needs_background": "light"
     },
     "output_type": "display_data"
    },
    {
     "data": {
      "image/png": "[encoded data removed]",
      "text/plain": [
       "<Figure size 432x288 with 1 Axes>"
      ]
     },
     "metadata": {
      "needs_background": "light"
     },
     "output_type": "display_data"
    }
   ],
   "source": [
    "# kernel重啟，不重跑(保留訓練結果圖)\n",
    "print('MSE')\n",
    "show_train_history('accuracy','val_accuracy')\n",
    "show_train_history('loss','val_loss')"
   ]
  },
  {
   "cell_type": "code",
   "execution_count": 20,
   "metadata": {},
   "outputs": [
    {
     "name": "stdout",
     "output_type": "stream",
     "text": [
      "Epoch 1/12\n",
      "293/293 [==============================] - 58s 197ms/step - loss: 0.3252 - accuracy: 0.1118 - val_loss: 0.3231 - val_accuracy: 0.1639\n",
      "Epoch 2/12\n",
      "293/293 [==============================] - 61s 207ms/step - loss: 0.3223 - accuracy: 0.1432 - val_loss: 0.3213 - val_accuracy: 0.2083\n",
      "Epoch 3/12\n",
      "293/293 [==============================] - 60s 205ms/step - loss: 0.3192 - accuracy: 0.1680 - val_loss: 0.3189 - val_accuracy: 0.2282\n",
      "Epoch 4/12\n",
      "293/293 [==============================] - 60s 204ms/step - loss: 0.3158 - accuracy: 0.1877 - val_loss: 0.3156 - val_accuracy: 0.2556\n",
      "Epoch 5/12\n",
      "293/293 [==============================] - 61s 207ms/step - loss: 0.3102 - accuracy: 0.2110 - val_loss: 0.3110 - val_accuracy: 0.2795\n",
      "Epoch 6/12\n",
      "293/293 [==============================] - 61s 209ms/step - loss: 0.3044 - accuracy: 0.2313 - val_loss: 0.3059 - val_accuracy: 0.2903\n",
      "Epoch 7/12\n",
      "293/293 [==============================] - 61s 209ms/step - loss: 0.2993 - accuracy: 0.2459 - val_loss: 0.3012 - val_accuracy: 0.2931\n",
      "Epoch 8/12\n",
      "293/293 [==============================] - 62s 213ms/step - loss: 0.2950 - accuracy: 0.2615 - val_loss: 0.2981 - val_accuracy: 0.3069\n",
      "Epoch 9/12\n",
      "293/293 [==============================] - 60s 205ms/step - loss: 0.2921 - accuracy: 0.2721 - val_loss: 0.2954 - val_accuracy: 0.3143\n",
      "Epoch 10/12\n",
      "293/293 [==============================] - 60s 203ms/step - loss: 0.2896 - accuracy: 0.2817 - val_loss: 0.2929 - val_accuracy: 0.3182\n",
      "Epoch 11/12\n",
      "293/293 [==============================] - 61s 210ms/step - loss: 0.2875 - accuracy: 0.2925 - val_loss: 0.2914 - val_accuracy: 0.3223\n",
      "Epoch 12/12\n",
      "293/293 [==============================] - 62s 212ms/step - loss: 0.2854 - accuracy: 0.3010 - val_loss: 0.2897 - val_accuracy: 0.3308\n"
     ]
    }
   ],
   "source": [
    "model.compile(loss='binary_crossentropy', optimizer='sgd', metrics=['accuracy'])\n",
    "\n",
    "'''\n",
    "作業:\n",
    "請分別選用 \"MSE\", \"binary_crossentropy\"\n",
    "查看Train/test accurancy and loss rate\n",
    "'''\n",
    "train_history=model.fit(x_img_train_normalize, y_label_train_OneHot,\n",
    "                        validation_split=0.25,\n",
    "                        epochs=12, batch_size=128, verbose=1)"
   ]
  },
  {
   "cell_type": "code",
   "execution_count": 21,
   "metadata": {},
   "outputs": [
    {
     "name": "stdout",
     "output_type": "stream",
     "text": [
      "binary_crossentropy\n"
     ]
    },
    {
     "data": {
      "image/png": "[encoded data removed]",
      "text/plain": [
       "<Figure size 432x288 with 1 Axes>"
      ]
     },
     "metadata": {
      "needs_background": "light"
     },
     "output_type": "display_data"
    },
    {
     "data": {
      "image/png": "[encoded data removed]",
      "text/plain": [
       "<Figure size 432x288 with 1 Axes>"
      ]
     },
     "metadata": {
      "needs_background": "light"
     },
     "output_type": "display_data"
    }
   ],
   "source": [
    "# kernel重啟，最後一個訓練結果圖\n",
    "print('binary_crossentropy')\n",
    "show_train_history('accuracy','val_accuracy')\n",
    "show_train_history('loss','val_loss')"
   ]
  },
  {
   "cell_type": "code",
   "execution_count": null,
   "metadata": {},
   "outputs": [],
   "source": []
  }
 ],
 "metadata": {
  "colab": {
   "name": "Day71-使用損失函數_HW.ipynb",
   "provenance": [],
   "version": "0.3.2"
  },
  "kernelspec": {
   "display_name": "Python 3",
   "language": "python",
   "name": "python3"
  },
  "language_info": {
   "codemirror_mode": {
    "name": "ipython",
    "version": 3
   },
   "file_extension": ".py",
   "mimetype": "text/x-python",
   "name": "python",
   "nbconvert_exporter": "python",
   "pygments_lexer": "ipython3",
   "version": "3.7.4"
  }
 },
 "nbformat": 4,
 "nbformat_minor": 1
}
