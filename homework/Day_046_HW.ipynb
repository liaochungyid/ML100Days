{
 "cells": [
  {
   "cell_type": "markdown",
   "metadata": {},
   "source": [
    "### 作業\n",
    "目前已經學過許多的模型，相信大家對整體流程應該比較掌握了，這次作業請改用**手寫辨識資料集**，步驟流程都是一樣的，請試著自己撰寫程式碼來完成所有步驟"
   ]
  },
  {
   "cell_type": "code",
   "execution_count": 1,
   "metadata": {},
   "outputs": [],
   "source": [
    "from sklearn import datasets, metrics\n",
    "from sklearn.ensemble import GradientBoostingClassifier\n",
    "from sklearn.model_selection import train_test_split\n",
    "\n",
    "digits = datasets.load_digits()"
   ]
  },
  {
   "cell_type": "code",
   "execution_count": 15,
   "metadata": {},
   "outputs": [
    {
     "name": "stdout",
     "output_type": "stream",
     "text": [
      "dict_keys(['data', 'target', 'target_names', 'images', 'DESCR']) \n",
      " DATA\n",
      "       0    1     2     3     4     5    6    7    8    9   ...   54   55  \\\n",
      "0     0.0  0.0   5.0  13.0   9.0   1.0  0.0  0.0  0.0  0.0  ...  0.0  0.0   \n",
      "1     0.0  0.0   0.0  12.0  13.0   5.0  0.0  0.0  0.0  0.0  ...  0.0  0.0   \n",
      "2     0.0  0.0   0.0   4.0  15.0  12.0  0.0  0.0  0.0  0.0  ...  5.0  0.0   \n",
      "3     0.0  0.0   7.0  15.0  13.0   1.0  0.0  0.0  0.0  8.0  ...  9.0  0.0   \n",
      "4     0.0  0.0   0.0   1.0  11.0   0.0  0.0  0.0  0.0  0.0  ...  0.0  0.0   \n",
      "...   ...  ...   ...   ...   ...   ...  ...  ...  ...  ...  ...  ...  ...   \n",
      "1792  0.0  0.0   4.0  10.0  13.0   6.0  0.0  0.0  0.0  1.0  ...  4.0  0.0   \n",
      "1793  0.0  0.0   6.0  16.0  13.0  11.0  1.0  0.0  0.0  0.0  ...  1.0  0.0   \n",
      "1794  0.0  0.0   1.0  11.0  15.0   1.0  0.0  0.0  0.0  0.0  ...  0.0  0.0   \n",
      "1795  0.0  0.0   2.0  10.0   7.0   0.0  0.0  0.0  0.0  0.0  ...  2.0  0.0   \n",
      "1796  0.0  0.0  10.0  14.0   8.0   1.0  0.0  0.0  0.0  2.0  ...  8.0  0.0   \n",
      "\n",
      "       56   57   58    59    60    61   62   63  \n",
      "0     0.0  0.0  6.0  13.0  10.0   0.0  0.0  0.0  \n",
      "1     0.0  0.0  0.0  11.0  16.0  10.0  0.0  0.0  \n",
      "2     0.0  0.0  0.0   3.0  11.0  16.0  9.0  0.0  \n",
      "3     0.0  0.0  7.0  13.0  13.0   9.0  0.0  0.0  \n",
      "4     0.0  0.0  0.0   2.0  16.0   4.0  0.0  0.0  \n",
      "...   ...  ...  ...   ...   ...   ...  ...  ...  \n",
      "1792  0.0  0.0  2.0  14.0  15.0   9.0  0.0  0.0  \n",
      "1793  0.0  0.0  6.0  16.0  14.0   6.0  0.0  0.0  \n",
      "1794  0.0  0.0  2.0   9.0  13.0   6.0  0.0  0.0  \n",
      "1795  0.0  0.0  5.0  12.0  16.0  12.0  0.0  0.0  \n",
      "1796  0.0  1.0  8.0  12.0  14.0  12.0  1.0  0.0  \n",
      "\n",
      "[1797 rows x 64 columns]\n",
      "TARGET \n",
      "\n",
      "      0\n",
      "0     0\n",
      "1     1\n",
      "2     2\n",
      "3     3\n",
      "4     4\n",
      "...  ..\n",
      "1792  9\n",
      "1793  0\n",
      "1794  8\n",
      "1795  9\n",
      "1796  8\n",
      "\n",
      "[1797 rows x 1 columns]\n"
     ]
    }
   ],
   "source": [
    "import pandas as pd\n",
    "print(digits.keys(),'\\n DATA')\n",
    "print(pd.DataFrame(data=digits.data))\n",
    "print('TARGET \\n')\n",
    "print(pd.DataFrame(data=digits.target))"
   ]
  },
  {
   "cell_type": "code",
   "execution_count": 18,
   "metadata": {},
   "outputs": [
    {
     "name": "stdout",
     "output_type": "stream",
     "text": [
      "Acuuracy on Train:  1.0\n",
      "Acuuracy:  0.9694444444444444\n"
     ]
    }
   ],
   "source": [
    "x_train,x_test,y_train,y_test=train_test_split(digits.data,digits.target,test_size=0.2,random_state=42)\n",
    "gbc = GradientBoostingClassifier()\n",
    "gbc.fit(x_train,y_train)\n",
    "y_pred = gbc.predict(x_test)\n",
    "y_pred_train = gbc.predict(x_train)\n",
    "acc_train = metrics.accuracy_score(y_train, y_pred_train)\n",
    "acc = metrics.accuracy_score(y_test, y_pred)\n",
    "print(\"Acuuracy on Train: \", acc_train)\n",
    "print(\"Acuuracy: \", acc)"
   ]
  },
  {
   "cell_type": "code",
   "execution_count": null,
   "metadata": {},
   "outputs": [],
   "source": []
  }
 ],
 "metadata": {
  "kernelspec": {
   "display_name": "Python 3",
   "language": "python",
   "name": "python3"
  },
  "language_info": {
   "codemirror_mode": {
    "name": "ipython",
    "version": 3
   },
   "file_extension": ".py",
   "mimetype": "text/x-python",
   "name": "python",
   "nbconvert_exporter": "python",
   "pygments_lexer": "ipython3",
   "version": "3.7.4"
  }
 },
 "nbformat": 4,
 "nbformat_minor": 2
}
