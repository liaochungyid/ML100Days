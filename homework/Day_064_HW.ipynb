{
 "cells": [
  {
   "cell_type": "markdown",
   "metadata": {},
   "source": [
    "# 作業\n",
    "* 選擇迴歸資料集(右) - 交錯六群，在其他參數保持預設值的情況下，只允許調整隱藏層層數與神經元數量，且遵守下列限制   \n",
    "> * 隱藏層神經元總數最多 8 個 (即 : 可以單層 8 個，或兩層 5 個與 3 個)   \n",
    "> * 遞迴次數只允許跑到500次  \n",
    "* 在上述限制下，挑戰看看測試誤差 (Test Loss) 最低能到多少? 請回答你的神經元參數與 Test Loss 數"
   ]
  },
  {
   "cell_type": "markdown",
   "metadata": {
    "collapsed": true
   },
   "source": []
  },
  {
   "cell_type": "code",
   "execution_count": null,
   "metadata": {},
   "outputs": [],
   "source": [
    "# hidden layer 與 neurons : test loss 如下\n",
    "# 初始狀態(2 hidden, 4+2 neurons):0.023\n",
    "# 2 hidden, 3+5:0.033\n",
    "# 2 hidden, 4+4:0.018\n",
    "# 2 hidden, 5+3:0.017\n",
    "# 3 hidden, 3+3+2:0.020\n",
    "# 3 hidden, 4+2+2:0.024\n",
    "# 3 hidden, 2+3+3:0.034\n",
    "# 4 hidden, 2+2+2+2:0.034\n",
    "# 4 hidden, 2+1+3+2:0.033\n",
    "# 5 hidden, 2+1+1+1+1+2:0.049\n",
    "\n",
    "# 2 hidden layer, 5 + 3 neurons 的 test loss最低"
   ]
  }
 ],
 "metadata": {
  "kernelspec": {
   "display_name": "Python 3",
   "language": "python",
   "name": "python3"
  },
  "language_info": {
   "codemirror_mode": {
    "name": "ipython",
    "version": 3
   },
   "file_extension": ".py",
   "mimetype": "text/x-python",
   "name": "python",
   "nbconvert_exporter": "python",
   "pygments_lexer": "ipython3",
   "version": "3.7.4"
  }
 },
 "nbformat": 4,
 "nbformat_minor": 2
}
