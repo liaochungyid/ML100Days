{
 "cells": [
  {
   "cell_type": "markdown",
   "metadata": {},
   "source": [
    "## [作業重點]\n",
    "了解如何使用 Sklearn 中的 hyper-parameter search 找出最佳的超參數"
   ]
  },
  {
   "cell_type": "markdown",
   "metadata": {},
   "source": [
    "### 作業\n",
    "請使用不同的資料集，並使用 hyper-parameter search 的方式，看能不能找出最佳的超參數組合"
   ]
  },
  {
   "cell_type": "code",
   "execution_count": 12,
   "metadata": {},
   "outputs": [],
   "source": [
    "from sklearn import datasets, metrics\n",
    "from sklearn.ensemble import GradientBoostingClassifier, GradientBoostingRegressor\n",
    "from sklearn.model_selection import train_test_split, GridSearchCV\n",
    "\n",
    "wine = datasets.load_wine()\n",
    "#boston = datasets.load_boston()\n",
    "#breast_cancer = datasets.load_breast_cancer()\n",
    "#digits = datasets.load_digits()\n",
    "x_train,x_test,y_train,y_test=train_test_split(wine.data,wine.target,test_size=0.1,random_state=42)"
   ]
  },
  {
   "cell_type": "code",
   "execution_count": 13,
   "metadata": {},
   "outputs": [
    {
     "name": "stdout",
     "output_type": "stream",
     "text": [
      "Default MSE :  0.2605859119476395\n"
     ]
    }
   ],
   "source": [
    "# 先用預設值的MSE\n",
    "gbr = GradientBoostingRegressor(random_state=42)\n",
    "gbr.fit(x_train,y_train)\n",
    "y_pred_default = gbr.predict(x_test)\n",
    "print('Default MSE : ',metrics.mean_squared_error(y_test,y_pred_default))"
   ]
  },
  {
   "cell_type": "code",
   "execution_count": 14,
   "metadata": {},
   "outputs": [
    {
     "name": "stdout",
     "output_type": "stream",
     "text": [
      "Fitting 3 folds for each of 7 candidates, totalling 21 fits\n"
     ]
    },
    {
     "name": "stderr",
     "output_type": "stream",
     "text": [
      "C:\\ProgramData\\Anaconda3\\lib\\site-packages\\sklearn\\model_selection\\_split.py:1978: FutureWarning: The default value of cv will change from 3 to 5 in version 0.22. Specify it explicitly to silence this warning.\n",
      "  warnings.warn(CV_WARNING, FutureWarning)\n",
      "[Parallel(n_jobs=-1)]: Using backend LokyBackend with 8 concurrent workers.\n",
      "[Parallel(n_jobs=-1)]: Done   6 out of  21 | elapsed:    0.0s remaining:    0.0s\n",
      "[Parallel(n_jobs=-1)]: Done  21 out of  21 | elapsed:    0.0s finished\n"
     ]
    }
   ],
   "source": [
    "# 先測試一個變數 n_estimators\n",
    "param_test1= {'n_estimators':list(range(20,81,10))}  \n",
    "grid_search1 = GridSearchCV(gbr, param_test1, scoring=\"neg_mean_squared_error\", n_jobs=-1, verbose=1)\n",
    "grid_result1 = grid_search1.fit(x_train,y_train)"
   ]
  },
  {
   "cell_type": "code",
   "execution_count": 15,
   "metadata": {},
   "outputs": [
    {
     "name": "stdout",
     "output_type": "stream",
     "text": [
      "Best Accuracy : -0.108397 using {'n_estimators': 20}\n"
     ]
    }
   ],
   "source": [
    "print('Best Accuracy : %f using %s' % (grid_result1.best_score_,grid_result1.best_params_))"
   ]
  },
  {
   "cell_type": "code",
   "execution_count": 16,
   "metadata": {},
   "outputs": [
    {
     "name": "stderr",
     "output_type": "stream",
     "text": [
      "C:\\ProgramData\\Anaconda3\\lib\\site-packages\\sklearn\\model_selection\\_split.py:1978: FutureWarning: The default value of cv will change from 3 to 5 in version 0.22. Specify it explicitly to silence this warning.\n",
      "  warnings.warn(CV_WARNING, FutureWarning)\n",
      "[Parallel(n_jobs=-1)]: Using backend LokyBackend with 8 concurrent workers.\n"
     ]
    },
    {
     "name": "stdout",
     "output_type": "stream",
     "text": [
      "Fitting 3 folds for each of 36 candidates, totalling 108 fits\n"
     ]
    },
    {
     "name": "stderr",
     "output_type": "stream",
     "text": [
      "[Parallel(n_jobs=-1)]: Done 108 out of 108 | elapsed:    0.3s finished\n"
     ]
    }
   ],
   "source": [
    "# 測試兩個變數 max_depth, min_samples_split\n",
    "param_test2= {'max_depth':list(range(3,14,2)), 'min_samples_split':list(range(20,301,50))}\n",
    "grid_search2 = GridSearchCV(gbr, param_test2, scoring=\"neg_mean_squared_error\", n_jobs=-1, verbose=1)\n",
    "grid_result2 = grid_search2.fit(x_train,y_train)"
   ]
  },
  {
   "cell_type": "code",
   "execution_count": 17,
   "metadata": {},
   "outputs": [
    {
     "name": "stdout",
     "output_type": "stream",
     "text": [
      "Best Accuracy : -0.060270 using {'max_depth': 9, 'min_samples_split': 70}\n"
     ]
    }
   ],
   "source": [
    "print('Best Accuracy : %f using %s' % (grid_result2.best_score_,grid_result2.best_params_))"
   ]
  },
  {
   "cell_type": "code",
   "execution_count": 18,
   "metadata": {},
   "outputs": [
    {
     "name": "stderr",
     "output_type": "stream",
     "text": [
      "C:\\ProgramData\\Anaconda3\\lib\\site-packages\\sklearn\\model_selection\\_split.py:1978: FutureWarning: The default value of cv will change from 3 to 5 in version 0.22. Specify it explicitly to silence this warning.\n",
      "  warnings.warn(CV_WARNING, FutureWarning)\n",
      "[Parallel(n_jobs=-1)]: Using backend LokyBackend with 8 concurrent workers.\n"
     ]
    },
    {
     "name": "stdout",
     "output_type": "stream",
     "text": [
      "Fitting 3 folds for each of 252 candidates, totalling 756 fits\n",
      "Best Accuracy : -0.059712 using {'max_depth': 9, 'min_samples_split': 70, 'n_estimators': 80}\n"
     ]
    },
    {
     "name": "stderr",
     "output_type": "stream",
     "text": [
      "[Parallel(n_jobs=-1)]: Done 756 out of 756 | elapsed:    1.5s finished\n"
     ]
    }
   ],
   "source": [
    "# 三個一起測，看看結果\n",
    "param_test3= {'max_depth':list(range(3,14,2)),'min_samples_split':list(range(20,301,50)),'n_estimators':list(range(20,81,10))}\n",
    "grid_search3 = GridSearchCV(gbr, param_test3, scoring=\"neg_mean_squared_error\", n_jobs=-1, verbose=1)\n",
    "grid_result3 = grid_search3.fit(x_train,y_train)\n",
    "print('Best Accuracy : %f using %s' % (grid_result3.best_score_,grid_result3.best_params_))"
   ]
  },
  {
   "cell_type": "code",
   "execution_count": 21,
   "metadata": {},
   "outputs": [
    {
     "name": "stdout",
     "output_type": "stream",
     "text": [
      "Modified MSE :  0.06318188802973769\n"
     ]
    }
   ],
   "source": [
    "# 結果有不同，多維圖形，參數要測試需要一起，單一分開的結果會不同\n",
    "# 使用param_test3 模型預測，看準確度是否上升\n",
    "gbr_bestparam = GradientBoostingRegressor(max_depth=grid_result3.best_params_['max_depth'],\\\n",
    "                                          min_samples_split=grid_result3.best_params_['min_samples_split'],\\\n",
    "                                          n_estimators=grid_result3.best_params_['n_estimators'])\n",
    "\n",
    "gbr_bestparam.fit(x_train, y_train)\n",
    "y_pred = gbr_bestparam.predict(x_test)\n",
    "print('Modified MSE : ',metrics.mean_squared_error(y_test, y_pred))"
   ]
  },
  {
   "cell_type": "code",
   "execution_count": null,
   "metadata": {},
   "outputs": [],
   "source": [
    "# MSE明顯下降許多"
   ]
  }
 ],
 "metadata": {
  "kernelspec": {
   "display_name": "Python 3",
   "language": "python",
   "name": "python3"
  },
  "language_info": {
   "codemirror_mode": {
    "name": "ipython",
    "version": 3
   },
   "file_extension": ".py",
   "mimetype": "text/x-python",
   "name": "python",
   "nbconvert_exporter": "python",
   "pygments_lexer": "ipython3",
   "version": "3.7.4"
  }
 },
 "nbformat": 4,
 "nbformat_minor": 2
}
